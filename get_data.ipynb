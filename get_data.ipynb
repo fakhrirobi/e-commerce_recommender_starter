{
 "cells": [
  {
   "cell_type": "code",
   "execution_count": 6,
   "id": "ecbf8ddb-60ff-4bc8-8d2c-1dde2ee82235",
   "metadata": {},
   "outputs": [],
   "source": [
    "import spotlight"
   ]
  },
  {
   "cell_type": "code",
   "execution_count": 7,
   "id": "3f4b1e32-67c8-4267-8f06-49b3afe9b84d",
   "metadata": {},
   "outputs": [
    {
     "name": "stdout",
     "output_type": "stream",
     "text": [
      "Help on package spotlight:\n",
      "\n",
      "NAME\n",
      "    spotlight - Data validation for Python, inspired by the Laravel framework.\n",
      "\n",
      "PACKAGE CONTENTS\n",
      "    config\n",
      "    errors\n",
      "    exceptions\n",
      "    rules\n",
      "    utils\n",
      "    validator\n",
      "\n",
      "DATA\n",
      "    Data = typing.Union[dict, object]\n",
      "    Rules = typing.Dict[str, typing.Union[str, typing.List[t...r, typing.C...\n",
      "    ValidationFunction = typing.Callable[..., typing.Optional[str]]\n",
      "\n",
      "VERSION\n",
      "    3.1.0\n",
      "\n",
      "FILE\n",
      "    /home/fakhri/pacmann_project/recsys_project/lib/python3.10/site-packages/spotlight/__init__.py\n",
      "\n",
      "\n"
     ]
    }
   ],
   "source": [
    "help(spotlight)"
   ]
  },
  {
   "cell_type": "code",
   "execution_count": 9,
   "id": "b91b3d39-87fe-4c11-b357-121e7eaaad2d",
   "metadata": {},
   "outputs": [],
   "source": [
    "import os\n",
    "\n",
    "import requests\n",
    "\n",
    "\n",
    "DATA_DIR = os.path.join(os.path.expanduser('~'),\n",
    "                        'spotlight_data')\n",
    "\n",
    "\n",
    "def create_data_dir(path):\n",
    "\n",
    "    if not os.path.isdir(path):\n",
    "        os.makedirs(path)\n",
    "\n",
    "\n",
    "def download(url, dest_path, data_dir=DATA_DIR):\n",
    "\n",
    "    req = requests.get(url, stream=True)\n",
    "    req.raise_for_status()\n",
    "\n",
    "    with open(dest_path, 'wb') as fd:\n",
    "        for chunk in req.iter_content(chunk_size=2**20):\n",
    "            fd.write(chunk)\n",
    "\n",
    "\n",
    "def get_data(url, dest_subdir, dest_filename, download_if_missing=True):\n",
    "\n",
    "    data_dir = os.path.join(os.path.abspath(DATA_DIR), dest_subdir)\n",
    "\n",
    "    create_data_dir(data_dir)\n",
    "\n",
    "    dest_path = os.path.join(data_dir, dest_filename)\n",
    "\n",
    "    if not os.path.isfile(dest_path):\n",
    "        if download_if_missing:\n",
    "            download(url, dest_path)\n",
    "        else:\n",
    "            raise IOError('Dataset missing.')\n",
    "\n",
    "    return dest_path"
   ]
  },
  {
   "cell_type": "code",
   "execution_count": 14,
   "id": "773898c3-362d-4d20-b2d3-ea8ba31bcca1",
   "metadata": {},
   "outputs": [],
   "source": [
    "from recommender_datasets import amazon"
   ]
  },
  {
   "cell_type": "code",
   "execution_count": 15,
   "id": "2a13409c-942e-4236-91e5-0cc049489b07",
   "metadata": {},
   "outputs": [
    {
     "name": "stdout",
     "output_type": "stream",
     "text": [
      "Help on module recommender_datasets.amazon in recommender_datasets:\n",
      "\n",
      "NAME\n",
      "    recommender_datasets.amazon\n",
      "\n",
      "FUNCTIONS\n",
      "    read_amazon_co_purchasing()\n",
      "\n",
      "FILE\n",
      "    /home/fakhri/pacmann_project/recsys_project/lib/python3.10/site-packages/recommender_datasets/amazon.py\n",
      "\n",
      "\n"
     ]
    }
   ],
   "source": [
    "help(amazon)"
   ]
  },
  {
   "cell_type": "code",
   "execution_count": 19,
   "id": "ace69d4c-c2c7-4367-901d-237da4c25a50",
   "metadata": {},
   "outputs": [
    {
     "name": "stdout",
     "output_type": "stream",
     "text": [
      "Parse failed\n"
     ]
    },
    {
     "ename": "EOFError",
     "evalue": "Compressed file ended before the end-of-stream marker was reached",
     "output_type": "error",
     "traceback": [
      "\u001b[0;31m---------------------------------------------------------------------------\u001b[0m",
      "\u001b[0;31mEOFError\u001b[0m                                  Traceback (most recent call last)",
      "Cell \u001b[0;32mIn[19], line 1\u001b[0m\n\u001b[0;32m----> 1\u001b[0m data \u001b[38;5;241m=\u001b[39m \u001b[43mamazon\u001b[49m\u001b[38;5;241;43m.\u001b[39;49m\u001b[43mread_amazon_co_purchasing\u001b[49m\u001b[43m(\u001b[49m\u001b[43m)\u001b[49m\n",
      "File \u001b[0;32m~/pacmann_project/recsys_project/lib/python3.10/site-packages/recommender_datasets/amazon.py:126\u001b[0m, in \u001b[0;36mread_amazon_co_purchasing\u001b[0;34m()\u001b[0m\n\u001b[1;32m    123\u001b[0m failed_parses \u001b[38;5;241m=\u001b[39m []\n\u001b[1;32m    124\u001b[0m total_parses \u001b[38;5;241m=\u001b[39m \u001b[38;5;241m0\u001b[39m\n\u001b[0;32m--> 126\u001b[0m \u001b[38;5;28;01mfor\u001b[39;00m block \u001b[38;5;129;01min\u001b[39;00m _read_blocks(path):\n\u001b[1;32m    127\u001b[0m     total_parses \u001b[38;5;241m+\u001b[39m\u001b[38;5;241m=\u001b[39m \u001b[38;5;241m1\u001b[39m\n\u001b[1;32m    128\u001b[0m     \u001b[38;5;28;01mtry\u001b[39;00m:\n",
      "File \u001b[0;32m~/pacmann_project/recsys_project/lib/python3.10/site-packages/recommender_datasets/amazon.py:18\u001b[0m, in \u001b[0;36m_read_blocks\u001b[0;34m(path)\u001b[0m\n\u001b[1;32m     14\u001b[0m \u001b[38;5;28;01mwith\u001b[39;00m gzip\u001b[38;5;241m.\u001b[39mopen(path, \u001b[38;5;124m'\u001b[39m\u001b[38;5;124mr\u001b[39m\u001b[38;5;124m'\u001b[39m) \u001b[38;5;28;01mas\u001b[39;00m source_file:\n\u001b[1;32m     16\u001b[0m     block \u001b[38;5;241m=\u001b[39m []\n\u001b[0;32m---> 18\u001b[0m     \u001b[38;5;28;01mfor\u001b[39;00m line \u001b[38;5;129;01min\u001b[39;00m islice(source_file, \u001b[38;5;241m3\u001b[39m, \u001b[38;5;28;01mNone\u001b[39;00m):\n\u001b[1;32m     19\u001b[0m         line \u001b[38;5;241m=\u001b[39m line\u001b[38;5;241m.\u001b[39mdecode(\u001b[38;5;124m'\u001b[39m\u001b[38;5;124mutf-8\u001b[39m\u001b[38;5;124m'\u001b[39m)\n\u001b[1;32m     20\u001b[0m         \u001b[38;5;28;01mif\u001b[39;00m line\u001b[38;5;241m.\u001b[39mstartswith(\u001b[38;5;124m'\u001b[39m\u001b[38;5;124mId:\u001b[39m\u001b[38;5;124m'\u001b[39m):\n",
      "File \u001b[0;32m~/anaconda3/lib/python3.10/gzip.py:399\u001b[0m, in \u001b[0;36mGzipFile.readline\u001b[0;34m(self, size)\u001b[0m\n\u001b[1;32m    397\u001b[0m \u001b[38;5;28;01mdef\u001b[39;00m \u001b[38;5;21mreadline\u001b[39m(\u001b[38;5;28mself\u001b[39m, size\u001b[38;5;241m=\u001b[39m\u001b[38;5;241m-\u001b[39m\u001b[38;5;241m1\u001b[39m):\n\u001b[1;32m    398\u001b[0m     \u001b[38;5;28mself\u001b[39m\u001b[38;5;241m.\u001b[39m_check_not_closed()\n\u001b[0;32m--> 399\u001b[0m     \u001b[38;5;28;01mreturn\u001b[39;00m \u001b[38;5;28;43mself\u001b[39;49m\u001b[38;5;241;43m.\u001b[39;49m\u001b[43m_buffer\u001b[49m\u001b[38;5;241;43m.\u001b[39;49m\u001b[43mreadline\u001b[49m\u001b[43m(\u001b[49m\u001b[43msize\u001b[49m\u001b[43m)\u001b[49m\n",
      "File \u001b[0;32m~/anaconda3/lib/python3.10/_compression.py:68\u001b[0m, in \u001b[0;36mDecompressReader.readinto\u001b[0;34m(self, b)\u001b[0m\n\u001b[1;32m     66\u001b[0m \u001b[38;5;28;01mdef\u001b[39;00m \u001b[38;5;21mreadinto\u001b[39m(\u001b[38;5;28mself\u001b[39m, b):\n\u001b[1;32m     67\u001b[0m     \u001b[38;5;28;01mwith\u001b[39;00m \u001b[38;5;28mmemoryview\u001b[39m(b) \u001b[38;5;28;01mas\u001b[39;00m view, view\u001b[38;5;241m.\u001b[39mcast(\u001b[38;5;124m\"\u001b[39m\u001b[38;5;124mB\u001b[39m\u001b[38;5;124m\"\u001b[39m) \u001b[38;5;28;01mas\u001b[39;00m byte_view:\n\u001b[0;32m---> 68\u001b[0m         data \u001b[38;5;241m=\u001b[39m \u001b[38;5;28;43mself\u001b[39;49m\u001b[38;5;241;43m.\u001b[39;49m\u001b[43mread\u001b[49m\u001b[43m(\u001b[49m\u001b[38;5;28;43mlen\u001b[39;49m\u001b[43m(\u001b[49m\u001b[43mbyte_view\u001b[49m\u001b[43m)\u001b[49m\u001b[43m)\u001b[49m\n\u001b[1;32m     69\u001b[0m         byte_view[:\u001b[38;5;28mlen\u001b[39m(data)] \u001b[38;5;241m=\u001b[39m data\n\u001b[1;32m     70\u001b[0m     \u001b[38;5;28;01mreturn\u001b[39;00m \u001b[38;5;28mlen\u001b[39m(data)\n",
      "File \u001b[0;32m~/anaconda3/lib/python3.10/gzip.py:507\u001b[0m, in \u001b[0;36m_GzipReader.read\u001b[0;34m(self, size)\u001b[0m\n\u001b[1;32m    505\u001b[0m         \u001b[38;5;28;01mbreak\u001b[39;00m\n\u001b[1;32m    506\u001b[0m     \u001b[38;5;28;01mif\u001b[39;00m buf \u001b[38;5;241m==\u001b[39m \u001b[38;5;124mb\u001b[39m\u001b[38;5;124m\"\u001b[39m\u001b[38;5;124m\"\u001b[39m:\n\u001b[0;32m--> 507\u001b[0m         \u001b[38;5;28;01mraise\u001b[39;00m \u001b[38;5;167;01mEOFError\u001b[39;00m(\u001b[38;5;124m\"\u001b[39m\u001b[38;5;124mCompressed file ended before the \u001b[39m\u001b[38;5;124m\"\u001b[39m\n\u001b[1;32m    508\u001b[0m                        \u001b[38;5;124m\"\u001b[39m\u001b[38;5;124mend-of-stream marker was reached\u001b[39m\u001b[38;5;124m\"\u001b[39m)\n\u001b[1;32m    510\u001b[0m \u001b[38;5;28mself\u001b[39m\u001b[38;5;241m.\u001b[39m_add_read_data( uncompress )\n\u001b[1;32m    511\u001b[0m \u001b[38;5;28mself\u001b[39m\u001b[38;5;241m.\u001b[39m_pos \u001b[38;5;241m+\u001b[39m\u001b[38;5;241m=\u001b[39m \u001b[38;5;28mlen\u001b[39m(uncompress)\n",
      "\u001b[0;31mEOFError\u001b[0m: Compressed file ended before the end-of-stream marker was reached"
     ]
    }
   ],
   "source": [
    "data = amazon.read_amazon_co_purchasing()"
   ]
  },
  {
   "cell_type": "code",
   "execution_count": null,
   "id": "12ae0d37-b853-480b-884b-d1fca3e02a96",
   "metadata": {},
   "outputs": [],
   "source": []
  }
 ],
 "metadata": {
  "kernelspec": {
   "display_name": "Python 3 (ipykernel)",
   "language": "python",
   "name": "python3"
  },
  "language_info": {
   "codemirror_mode": {
    "name": "ipython",
    "version": 3
   },
   "file_extension": ".py",
   "mimetype": "text/x-python",
   "name": "python",
   "nbconvert_exporter": "python",
   "pygments_lexer": "ipython3",
   "version": "3.10.9"
  }
 },
 "nbformat": 4,
 "nbformat_minor": 5
}
