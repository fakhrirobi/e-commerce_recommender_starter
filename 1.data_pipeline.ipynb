{
 "cells": [
  {
   "attachments": {},
   "cell_type": "markdown",
   "metadata": {},
   "source": []
  },
  {
   "cell_type": "code",
   "execution_count": 137,
   "metadata": {},
   "outputs": [],
   "source": [
    "import pandas as pd\n",
    "import joblib\n",
    "from src.utils import load_config\n",
    "\n",
    "CONFIG_DATA = load_config()"
   ]
  },
  {
   "cell_type": "code",
   "execution_count": 138,
   "metadata": {},
   "outputs": [
    {
     "data": {
      "text/plain": [
       "{'dataset_path': 'https://raw.githubusercontent.com/fakhrirobi/e-commerce_recommender_starter/master/dataset/Amazone_Magazine_Review.csv',\n",
       " 'user_column': 'reviewerID',\n",
       " 'item_column': 'itemID',\n",
       " 'interaction_column': 'rating',\n",
       " 'minimum_interaction': 3,\n",
       " 'training_pct': 0.6,\n",
       " 'val_pct': 0.5,\n",
       " 'train_utility_matrix_path': 'dataset/processed/train_utility_matrix.pkl',\n",
       " 'val_utility_matrix_path': 'dataset/processed/val_utility_matrix.pkl',\n",
       " 'test_utility_matrix_path': 'dataset/processed/test_utility_matrix.pkl',\n",
       " 'seed': 43,\n",
       " 'reviewer_id_to_ordered_id_path': 'dataset/mapper/reviewer_id_to_ordered_id.pkl',\n",
       " 'ordered_id_to_reviewer_id_path': 'dataset/mapper/ordered_id_to_reviewer_id.pkl',\n",
       " 'item_id_to_ordered_id_path': 'dataset/mapper/item_id_to_ordered_id_path.pkl',\n",
       " 'ordered_id_to_item_id_path': 'dataset/mapper/ordered_id_to_item_id.pkl'}"
      ]
     },
     "execution_count": 138,
     "metadata": {},
     "output_type": "execute_result"
    }
   ],
   "source": [
    "CONFIG_DATA"
   ]
  },
  {
   "attachments": {},
   "cell_type": "markdown",
   "metadata": {},
   "source": [
    "## Data Collection"
   ]
  },
  {
   "cell_type": "code",
   "execution_count": 139,
   "metadata": {},
   "outputs": [],
   "source": [
    "\n",
    "#read dataset\n",
    "rating = pd.read_csv(CONFIG_DATA['dataset_path'])"
   ]
  },
  {
   "cell_type": "code",
   "execution_count": 140,
   "metadata": {},
   "outputs": [
    {
     "data": {
      "text/html": [
       "<div>\n",
       "<style scoped>\n",
       "    .dataframe tbody tr th:only-of-type {\n",
       "        vertical-align: middle;\n",
       "    }\n",
       "\n",
       "    .dataframe tbody tr th {\n",
       "        vertical-align: top;\n",
       "    }\n",
       "\n",
       "    .dataframe thead th {\n",
       "        text-align: right;\n",
       "    }\n",
       "</style>\n",
       "<table border=\"1\" class=\"dataframe\">\n",
       "  <thead>\n",
       "    <tr style=\"text-align: right;\">\n",
       "      <th></th>\n",
       "      <th>reviewerID</th>\n",
       "      <th>itemID</th>\n",
       "      <th>rating</th>\n",
       "    </tr>\n",
       "  </thead>\n",
       "  <tbody>\n",
       "    <tr>\n",
       "      <th>0</th>\n",
       "      <td>B00005N7P0</td>\n",
       "      <td>AH2IFH762VY5U</td>\n",
       "      <td>5.0</td>\n",
       "    </tr>\n",
       "    <tr>\n",
       "      <th>1</th>\n",
       "      <td>B00005N7P0</td>\n",
       "      <td>AOSFI0JEYU4XM</td>\n",
       "      <td>5.0</td>\n",
       "    </tr>\n",
       "    <tr>\n",
       "      <th>2</th>\n",
       "      <td>B00005N7OJ</td>\n",
       "      <td>A3JPFWKS83R49V</td>\n",
       "      <td>3.0</td>\n",
       "    </tr>\n",
       "    <tr>\n",
       "      <th>3</th>\n",
       "      <td>B00005N7OJ</td>\n",
       "      <td>A19FKU6JZQ2ECJ</td>\n",
       "      <td>5.0</td>\n",
       "    </tr>\n",
       "    <tr>\n",
       "      <th>4</th>\n",
       "      <td>B00005N7P0</td>\n",
       "      <td>A25MDGOMZ2GALN</td>\n",
       "      <td>5.0</td>\n",
       "    </tr>\n",
       "  </tbody>\n",
       "</table>\n",
       "</div>"
      ],
      "text/plain": [
       "   reviewerID          itemID  rating\n",
       "0  B00005N7P0   AH2IFH762VY5U     5.0\n",
       "1  B00005N7P0   AOSFI0JEYU4XM     5.0\n",
       "2  B00005N7OJ  A3JPFWKS83R49V     3.0\n",
       "3  B00005N7OJ  A19FKU6JZQ2ECJ     5.0\n",
       "4  B00005N7P0  A25MDGOMZ2GALN     5.0"
      ]
     },
     "execution_count": 140,
     "metadata": {},
     "output_type": "execute_result"
    }
   ],
   "source": [
    "#check its head\n",
    "rating.head()"
   ]
  },
  {
   "cell_type": "code",
   "execution_count": 141,
   "metadata": {},
   "outputs": [
    {
     "data": {
      "text/html": [
       "<div>\n",
       "<style scoped>\n",
       "    .dataframe tbody tr th:only-of-type {\n",
       "        vertical-align: middle;\n",
       "    }\n",
       "\n",
       "    .dataframe tbody tr th {\n",
       "        vertical-align: top;\n",
       "    }\n",
       "\n",
       "    .dataframe thead th {\n",
       "        text-align: right;\n",
       "    }\n",
       "</style>\n",
       "<table border=\"1\" class=\"dataframe\">\n",
       "  <thead>\n",
       "    <tr style=\"text-align: right;\">\n",
       "      <th></th>\n",
       "      <th>rating</th>\n",
       "    </tr>\n",
       "  </thead>\n",
       "  <tbody>\n",
       "    <tr>\n",
       "      <th>count</th>\n",
       "      <td>89689.000000</td>\n",
       "    </tr>\n",
       "    <tr>\n",
       "      <th>mean</th>\n",
       "      <td>4.036638</td>\n",
       "    </tr>\n",
       "    <tr>\n",
       "      <th>std</th>\n",
       "      <td>1.419791</td>\n",
       "    </tr>\n",
       "    <tr>\n",
       "      <th>min</th>\n",
       "      <td>1.000000</td>\n",
       "    </tr>\n",
       "    <tr>\n",
       "      <th>25%</th>\n",
       "      <td>3.000000</td>\n",
       "    </tr>\n",
       "    <tr>\n",
       "      <th>50%</th>\n",
       "      <td>5.000000</td>\n",
       "    </tr>\n",
       "    <tr>\n",
       "      <th>75%</th>\n",
       "      <td>5.000000</td>\n",
       "    </tr>\n",
       "    <tr>\n",
       "      <th>max</th>\n",
       "      <td>5.000000</td>\n",
       "    </tr>\n",
       "  </tbody>\n",
       "</table>\n",
       "</div>"
      ],
      "text/plain": [
       "             rating\n",
       "count  89689.000000\n",
       "mean       4.036638\n",
       "std        1.419791\n",
       "min        1.000000\n",
       "25%        3.000000\n",
       "50%        5.000000\n",
       "75%        5.000000\n",
       "max        5.000000"
      ]
     },
     "execution_count": 141,
     "metadata": {},
     "output_type": "execute_result"
    }
   ],
   "source": [
    "#check some stats\n",
    "rating.describe()"
   ]
  },
  {
   "cell_type": "code",
   "execution_count": 142,
   "metadata": {},
   "outputs": [
    {
     "data": {
      "text/plain": [
       "reviewerID     object\n",
       "itemID         object\n",
       "rating        float64\n",
       "dtype: object"
      ]
     },
     "execution_count": 142,
     "metadata": {},
     "output_type": "execute_result"
    }
   ],
   "source": [
    "#check data type \n",
    "rating.dtypes"
   ]
  },
  {
   "cell_type": "code",
   "execution_count": 143,
   "metadata": {},
   "outputs": [],
   "source": [
    "#wrap as function \n",
    "\n",
    "def load_data() : \n",
    "    #read data\n",
    "    data  = pd.read_csv(CONFIG_DATA['dataset_path'])\n",
    "    \n",
    "    #print datashape\n",
    "    print('Data shape : ',data.shape)\n",
    "    \n",
    "    \n",
    "    #print datatypes \n",
    "    print('Data Types : \\n ',data.dtypes)\n",
    "    #return data \n",
    "    return data \n",
    "    \n",
    "    \n",
    "    "
   ]
  },
  {
   "cell_type": "code",
   "execution_count": 144,
   "metadata": {},
   "outputs": [
    {
     "name": "stdout",
     "output_type": "stream",
     "text": [
      "Data shape :  (89689, 3)\n",
      "Data Types : \n",
      "  reviewerID     object\n",
      "itemID         object\n",
      "rating        float64\n",
      "dtype: object\n"
     ]
    }
   ],
   "source": [
    "data = load_data()"
   ]
  },
  {
   "attachments": {},
   "cell_type": "markdown",
   "metadata": {},
   "source": [
    "## Making Simple Recommendation"
   ]
  },
  {
   "cell_type": "code",
   "execution_count": 145,
   "metadata": {},
   "outputs": [
    {
     "data": {
      "text/plain": [
       "2428"
      ]
     },
     "execution_count": 145,
     "metadata": {},
     "output_type": "execute_result"
    }
   ],
   "source": [
    "rating.reviewerID.nunique()"
   ]
  },
  {
   "cell_type": "code",
   "execution_count": 146,
   "metadata": {},
   "outputs": [
    {
     "data": {
      "text/plain": [
       "72098"
      ]
     },
     "execution_count": 146,
     "metadata": {},
     "output_type": "execute_result"
    }
   ],
   "source": [
    "rating.itemID.nunique()"
   ]
  },
  {
   "attachments": {},
   "cell_type": "markdown",
   "metadata": {},
   "source": [
    "### How many items that user rated ? "
   ]
  },
  {
   "cell_type": "code",
   "execution_count": 147,
   "metadata": {},
   "outputs": [],
   "source": [
    "number_of_interaction = (rating.groupby('reviewerID',as_index=False)\n",
    "                            .agg(avg_interaction=pd.NamedAgg('itemID','count'))\n",
    "                            )"
   ]
  },
  {
   "cell_type": "code",
   "execution_count": 148,
   "metadata": {},
   "outputs": [
    {
     "data": {
      "text/html": [
       "<div>\n",
       "<style scoped>\n",
       "    .dataframe tbody tr th:only-of-type {\n",
       "        vertical-align: middle;\n",
       "    }\n",
       "\n",
       "    .dataframe tbody tr th {\n",
       "        vertical-align: top;\n",
       "    }\n",
       "\n",
       "    .dataframe thead th {\n",
       "        text-align: right;\n",
       "    }\n",
       "</style>\n",
       "<table border=\"1\" class=\"dataframe\">\n",
       "  <thead>\n",
       "    <tr style=\"text-align: right;\">\n",
       "      <th></th>\n",
       "      <th>avg_interaction</th>\n",
       "    </tr>\n",
       "  </thead>\n",
       "  <tbody>\n",
       "    <tr>\n",
       "      <th>count</th>\n",
       "      <td>2428.000000</td>\n",
       "    </tr>\n",
       "    <tr>\n",
       "      <th>mean</th>\n",
       "      <td>36.939456</td>\n",
       "    </tr>\n",
       "    <tr>\n",
       "      <th>std</th>\n",
       "      <td>117.218818</td>\n",
       "    </tr>\n",
       "    <tr>\n",
       "      <th>min</th>\n",
       "      <td>1.000000</td>\n",
       "    </tr>\n",
       "    <tr>\n",
       "      <th>25%</th>\n",
       "      <td>2.000000</td>\n",
       "    </tr>\n",
       "    <tr>\n",
       "      <th>50%</th>\n",
       "      <td>7.000000</td>\n",
       "    </tr>\n",
       "    <tr>\n",
       "      <th>75%</th>\n",
       "      <td>21.000000</td>\n",
       "    </tr>\n",
       "    <tr>\n",
       "      <th>max</th>\n",
       "      <td>1718.000000</td>\n",
       "    </tr>\n",
       "  </tbody>\n",
       "</table>\n",
       "</div>"
      ],
      "text/plain": [
       "       avg_interaction\n",
       "count      2428.000000\n",
       "mean         36.939456\n",
       "std         117.218818\n",
       "min           1.000000\n",
       "25%           2.000000\n",
       "50%           7.000000\n",
       "75%          21.000000\n",
       "max        1718.000000"
      ]
     },
     "execution_count": 148,
     "metadata": {},
     "output_type": "execute_result"
    }
   ],
   "source": [
    "number_of_interaction.describe()"
   ]
  },
  {
   "attachments": {},
   "cell_type": "markdown",
   "metadata": {},
   "source": [
    "### Finding items that have most rated"
   ]
  },
  {
   "cell_type": "code",
   "execution_count": 149,
   "metadata": {},
   "outputs": [],
   "source": [
    "rated_count = (rating.groupby('itemID',as_index=False)\n",
    "                     .agg(rating_count = pd.NamedAgg('reviewerID','count'))\n",
    "                     .sort_values('rating_count',ascending=False))"
   ]
  },
  {
   "attachments": {},
   "cell_type": "markdown",
   "metadata": {},
   "source": [
    "### Giving Recommendation\n",
    "\n",
    "One way to recommend is we can give most rated items, \n",
    "However most rated items does not means its highly rated by users. \n"
   ]
  },
  {
   "cell_type": "code",
   "execution_count": 150,
   "metadata": {},
   "outputs": [
    {
     "data": {
      "text/html": [
       "<div>\n",
       "<style scoped>\n",
       "    .dataframe tbody tr th:only-of-type {\n",
       "        vertical-align: middle;\n",
       "    }\n",
       "\n",
       "    .dataframe tbody tr th {\n",
       "        vertical-align: top;\n",
       "    }\n",
       "\n",
       "    .dataframe thead th {\n",
       "        text-align: right;\n",
       "    }\n",
       "</style>\n",
       "<table border=\"1\" class=\"dataframe\">\n",
       "  <thead>\n",
       "    <tr style=\"text-align: right;\">\n",
       "      <th></th>\n",
       "      <th>itemID</th>\n",
       "      <th>rating_count</th>\n",
       "    </tr>\n",
       "  </thead>\n",
       "  <tbody>\n",
       "    <tr>\n",
       "      <th>48609</th>\n",
       "      <td>A3JPFWKS83R49V</td>\n",
       "      <td>55</td>\n",
       "    </tr>\n",
       "    <tr>\n",
       "      <th>32315</th>\n",
       "      <td>A2OTUWUSH49XIN</td>\n",
       "      <td>26</td>\n",
       "    </tr>\n",
       "    <tr>\n",
       "      <th>60746</th>\n",
       "      <td>AEMZRE6QYVQBS</td>\n",
       "      <td>25</td>\n",
       "    </tr>\n",
       "    <tr>\n",
       "      <th>46846</th>\n",
       "      <td>A3GA09FYFKL4EY</td>\n",
       "      <td>24</td>\n",
       "    </tr>\n",
       "    <tr>\n",
       "      <th>52524</th>\n",
       "      <td>A3R7MXVQRGGIQ9</td>\n",
       "      <td>22</td>\n",
       "    </tr>\n",
       "    <tr>\n",
       "      <th>...</th>\n",
       "      <td>...</td>\n",
       "      <td>...</td>\n",
       "    </tr>\n",
       "    <tr>\n",
       "      <th>26064</th>\n",
       "      <td>A2D5KCTV2F6DWF</td>\n",
       "      <td>1</td>\n",
       "    </tr>\n",
       "    <tr>\n",
       "      <th>26067</th>\n",
       "      <td>A2D5UUBWHC4PP7</td>\n",
       "      <td>1</td>\n",
       "    </tr>\n",
       "    <tr>\n",
       "      <th>26068</th>\n",
       "      <td>A2D5XM37KOQ43F</td>\n",
       "      <td>1</td>\n",
       "    </tr>\n",
       "    <tr>\n",
       "      <th>26069</th>\n",
       "      <td>A2D5Y5Q2I8M7NU</td>\n",
       "      <td>1</td>\n",
       "    </tr>\n",
       "    <tr>\n",
       "      <th>72097</th>\n",
       "      <td>AZZXZMUSB0GBL</td>\n",
       "      <td>1</td>\n",
       "    </tr>\n",
       "  </tbody>\n",
       "</table>\n",
       "<p>72098 rows × 2 columns</p>\n",
       "</div>"
      ],
      "text/plain": [
       "               itemID  rating_count\n",
       "48609  A3JPFWKS83R49V            55\n",
       "32315  A2OTUWUSH49XIN            26\n",
       "60746   AEMZRE6QYVQBS            25\n",
       "46846  A3GA09FYFKL4EY            24\n",
       "52524  A3R7MXVQRGGIQ9            22\n",
       "...               ...           ...\n",
       "26064  A2D5KCTV2F6DWF             1\n",
       "26067  A2D5UUBWHC4PP7             1\n",
       "26068  A2D5XM37KOQ43F             1\n",
       "26069  A2D5Y5Q2I8M7NU             1\n",
       "72097   AZZXZMUSB0GBL             1\n",
       "\n",
       "[72098 rows x 2 columns]"
      ]
     },
     "execution_count": 150,
     "metadata": {},
     "output_type": "execute_result"
    }
   ],
   "source": [
    "rated_count"
   ]
  },
  {
   "attachments": {},
   "cell_type": "markdown",
   "metadata": {},
   "source": [
    "usually recommendation is in `Top N Recommendation`, such as `Top 10 Items`, etc. "
   ]
  },
  {
   "cell_type": "code",
   "execution_count": 151,
   "metadata": {},
   "outputs": [
    {
     "data": {
      "text/html": [
       "<div>\n",
       "<style scoped>\n",
       "    .dataframe tbody tr th:only-of-type {\n",
       "        vertical-align: middle;\n",
       "    }\n",
       "\n",
       "    .dataframe tbody tr th {\n",
       "        vertical-align: top;\n",
       "    }\n",
       "\n",
       "    .dataframe thead th {\n",
       "        text-align: right;\n",
       "    }\n",
       "</style>\n",
       "<table border=\"1\" class=\"dataframe\">\n",
       "  <thead>\n",
       "    <tr style=\"text-align: right;\">\n",
       "      <th></th>\n",
       "      <th>itemID</th>\n",
       "      <th>rating_count</th>\n",
       "    </tr>\n",
       "  </thead>\n",
       "  <tbody>\n",
       "    <tr>\n",
       "      <th>48609</th>\n",
       "      <td>A3JPFWKS83R49V</td>\n",
       "      <td>55</td>\n",
       "    </tr>\n",
       "    <tr>\n",
       "      <th>32315</th>\n",
       "      <td>A2OTUWUSH49XIN</td>\n",
       "      <td>26</td>\n",
       "    </tr>\n",
       "    <tr>\n",
       "      <th>60746</th>\n",
       "      <td>AEMZRE6QYVQBS</td>\n",
       "      <td>25</td>\n",
       "    </tr>\n",
       "    <tr>\n",
       "      <th>46846</th>\n",
       "      <td>A3GA09FYFKL4EY</td>\n",
       "      <td>24</td>\n",
       "    </tr>\n",
       "    <tr>\n",
       "      <th>52524</th>\n",
       "      <td>A3R7MXVQRGGIQ9</td>\n",
       "      <td>22</td>\n",
       "    </tr>\n",
       "    <tr>\n",
       "      <th>38444</th>\n",
       "      <td>A30H2335OM7RD6</td>\n",
       "      <td>22</td>\n",
       "    </tr>\n",
       "    <tr>\n",
       "      <th>14817</th>\n",
       "      <td>A1RPTVW5VEOSI</td>\n",
       "      <td>21</td>\n",
       "    </tr>\n",
       "    <tr>\n",
       "      <th>64002</th>\n",
       "      <td>AKMEY1BSHSDG7</td>\n",
       "      <td>21</td>\n",
       "    </tr>\n",
       "    <tr>\n",
       "      <th>69735</th>\n",
       "      <td>AVF9FV7AMRP5C</td>\n",
       "      <td>20</td>\n",
       "    </tr>\n",
       "    <tr>\n",
       "      <th>28160</th>\n",
       "      <td>A2H3JURQZOHVMB</td>\n",
       "      <td>20</td>\n",
       "    </tr>\n",
       "  </tbody>\n",
       "</table>\n",
       "</div>"
      ],
      "text/plain": [
       "               itemID  rating_count\n",
       "48609  A3JPFWKS83R49V            55\n",
       "32315  A2OTUWUSH49XIN            26\n",
       "60746   AEMZRE6QYVQBS            25\n",
       "46846  A3GA09FYFKL4EY            24\n",
       "52524  A3R7MXVQRGGIQ9            22\n",
       "38444  A30H2335OM7RD6            22\n",
       "14817   A1RPTVW5VEOSI            21\n",
       "64002   AKMEY1BSHSDG7            21\n",
       "69735   AVF9FV7AMRP5C            20\n",
       "28160  A2H3JURQZOHVMB            20"
      ]
     },
     "execution_count": 151,
     "metadata": {},
     "output_type": "execute_result"
    }
   ],
   "source": [
    "rated_count.head(10)"
   ]
  },
  {
   "cell_type": "code",
   "execution_count": 152,
   "metadata": {},
   "outputs": [],
   "source": [
    "def recommend_top_n(rating, n_items=10) : \n",
    "    \n",
    "    rated_count = (rating.groupby('itemID',as_index=False)\n",
    "                        .agg(rating_count = pd.NamedAgg('reviewerID','count'))\n",
    "                        .sort_values('rating_count',ascending=False)\n",
    "                        .head(n_items))\n",
    "    return rated_count"
   ]
  },
  {
   "cell_type": "code",
   "execution_count": 153,
   "metadata": {},
   "outputs": [
    {
     "data": {
      "text/html": [
       "<div>\n",
       "<style scoped>\n",
       "    .dataframe tbody tr th:only-of-type {\n",
       "        vertical-align: middle;\n",
       "    }\n",
       "\n",
       "    .dataframe tbody tr th {\n",
       "        vertical-align: top;\n",
       "    }\n",
       "\n",
       "    .dataframe thead th {\n",
       "        text-align: right;\n",
       "    }\n",
       "</style>\n",
       "<table border=\"1\" class=\"dataframe\">\n",
       "  <thead>\n",
       "    <tr style=\"text-align: right;\">\n",
       "      <th></th>\n",
       "      <th>itemID</th>\n",
       "      <th>rating_count</th>\n",
       "    </tr>\n",
       "  </thead>\n",
       "  <tbody>\n",
       "    <tr>\n",
       "      <th>48609</th>\n",
       "      <td>A3JPFWKS83R49V</td>\n",
       "      <td>55</td>\n",
       "    </tr>\n",
       "    <tr>\n",
       "      <th>32315</th>\n",
       "      <td>A2OTUWUSH49XIN</td>\n",
       "      <td>26</td>\n",
       "    </tr>\n",
       "    <tr>\n",
       "      <th>60746</th>\n",
       "      <td>AEMZRE6QYVQBS</td>\n",
       "      <td>25</td>\n",
       "    </tr>\n",
       "    <tr>\n",
       "      <th>46846</th>\n",
       "      <td>A3GA09FYFKL4EY</td>\n",
       "      <td>24</td>\n",
       "    </tr>\n",
       "    <tr>\n",
       "      <th>52524</th>\n",
       "      <td>A3R7MXVQRGGIQ9</td>\n",
       "      <td>22</td>\n",
       "    </tr>\n",
       "    <tr>\n",
       "      <th>38444</th>\n",
       "      <td>A30H2335OM7RD6</td>\n",
       "      <td>22</td>\n",
       "    </tr>\n",
       "    <tr>\n",
       "      <th>14817</th>\n",
       "      <td>A1RPTVW5VEOSI</td>\n",
       "      <td>21</td>\n",
       "    </tr>\n",
       "    <tr>\n",
       "      <th>64002</th>\n",
       "      <td>AKMEY1BSHSDG7</td>\n",
       "      <td>21</td>\n",
       "    </tr>\n",
       "    <tr>\n",
       "      <th>69735</th>\n",
       "      <td>AVF9FV7AMRP5C</td>\n",
       "      <td>20</td>\n",
       "    </tr>\n",
       "    <tr>\n",
       "      <th>28160</th>\n",
       "      <td>A2H3JURQZOHVMB</td>\n",
       "      <td>20</td>\n",
       "    </tr>\n",
       "    <tr>\n",
       "      <th>31972</th>\n",
       "      <td>A2O6SU5YDVSDN4</td>\n",
       "      <td>19</td>\n",
       "    </tr>\n",
       "    <tr>\n",
       "      <th>46643</th>\n",
       "      <td>A3FVAWZNKW9GX</td>\n",
       "      <td>19</td>\n",
       "    </tr>\n",
       "    <tr>\n",
       "      <th>58316</th>\n",
       "      <td>AA14AMM03HMXW</td>\n",
       "      <td>19</td>\n",
       "    </tr>\n",
       "    <tr>\n",
       "      <th>25297</th>\n",
       "      <td>A2BSKT65F16LAQ</td>\n",
       "      <td>18</td>\n",
       "    </tr>\n",
       "    <tr>\n",
       "      <th>19963</th>\n",
       "      <td>A21FFUC8BEMDJ7</td>\n",
       "      <td>18</td>\n",
       "    </tr>\n",
       "    <tr>\n",
       "      <th>57605</th>\n",
       "      <td>A8N76G7E26DM4</td>\n",
       "      <td>18</td>\n",
       "    </tr>\n",
       "    <tr>\n",
       "      <th>41184</th>\n",
       "      <td>A35KTWDOK0EXMY</td>\n",
       "      <td>16</td>\n",
       "    </tr>\n",
       "    <tr>\n",
       "      <th>64992</th>\n",
       "      <td>AMKQP0R290TLS</td>\n",
       "      <td>16</td>\n",
       "    </tr>\n",
       "    <tr>\n",
       "      <th>13592</th>\n",
       "      <td>A1PGC1GEBY9CZU</td>\n",
       "      <td>16</td>\n",
       "    </tr>\n",
       "    <tr>\n",
       "      <th>23399</th>\n",
       "      <td>A281NPSIMI1C2R</td>\n",
       "      <td>16</td>\n",
       "    </tr>\n",
       "    <tr>\n",
       "      <th>11161</th>\n",
       "      <td>A1KXONFPU2XQ5K</td>\n",
       "      <td>16</td>\n",
       "    </tr>\n",
       "    <tr>\n",
       "      <th>62223</th>\n",
       "      <td>AHD101501WCN1</td>\n",
       "      <td>15</td>\n",
       "    </tr>\n",
       "    <tr>\n",
       "      <th>21896</th>\n",
       "      <td>A254QZWPSXZG52</td>\n",
       "      <td>15</td>\n",
       "    </tr>\n",
       "    <tr>\n",
       "      <th>31712</th>\n",
       "      <td>A2NOZB6VZCTOI4</td>\n",
       "      <td>15</td>\n",
       "    </tr>\n",
       "    <tr>\n",
       "      <th>47259</th>\n",
       "      <td>A3H04WG2JTEY4C</td>\n",
       "      <td>15</td>\n",
       "    </tr>\n",
       "    <tr>\n",
       "      <th>45752</th>\n",
       "      <td>A3E90BH4019TC</td>\n",
       "      <td>15</td>\n",
       "    </tr>\n",
       "    <tr>\n",
       "      <th>8269</th>\n",
       "      <td>A1FEDK55GMLSV</td>\n",
       "      <td>15</td>\n",
       "    </tr>\n",
       "    <tr>\n",
       "      <th>30518</th>\n",
       "      <td>A2LI10MAXV0815</td>\n",
       "      <td>15</td>\n",
       "    </tr>\n",
       "    <tr>\n",
       "      <th>70981</th>\n",
       "      <td>AXV3OJG9BZ2JW</td>\n",
       "      <td>15</td>\n",
       "    </tr>\n",
       "    <tr>\n",
       "      <th>59472</th>\n",
       "      <td>AC98CDA0GZDKJ</td>\n",
       "      <td>15</td>\n",
       "    </tr>\n",
       "  </tbody>\n",
       "</table>\n",
       "</div>"
      ],
      "text/plain": [
       "               itemID  rating_count\n",
       "48609  A3JPFWKS83R49V            55\n",
       "32315  A2OTUWUSH49XIN            26\n",
       "60746   AEMZRE6QYVQBS            25\n",
       "46846  A3GA09FYFKL4EY            24\n",
       "52524  A3R7MXVQRGGIQ9            22\n",
       "38444  A30H2335OM7RD6            22\n",
       "14817   A1RPTVW5VEOSI            21\n",
       "64002   AKMEY1BSHSDG7            21\n",
       "69735   AVF9FV7AMRP5C            20\n",
       "28160  A2H3JURQZOHVMB            20\n",
       "31972  A2O6SU5YDVSDN4            19\n",
       "46643   A3FVAWZNKW9GX            19\n",
       "58316   AA14AMM03HMXW            19\n",
       "25297  A2BSKT65F16LAQ            18\n",
       "19963  A21FFUC8BEMDJ7            18\n",
       "57605   A8N76G7E26DM4            18\n",
       "41184  A35KTWDOK0EXMY            16\n",
       "64992   AMKQP0R290TLS            16\n",
       "13592  A1PGC1GEBY9CZU            16\n",
       "23399  A281NPSIMI1C2R            16\n",
       "11161  A1KXONFPU2XQ5K            16\n",
       "62223   AHD101501WCN1            15\n",
       "21896  A254QZWPSXZG52            15\n",
       "31712  A2NOZB6VZCTOI4            15\n",
       "47259  A3H04WG2JTEY4C            15\n",
       "45752   A3E90BH4019TC            15\n",
       "8269    A1FEDK55GMLSV            15\n",
       "30518  A2LI10MAXV0815            15\n",
       "70981   AXV3OJG9BZ2JW            15\n",
       "59472   AC98CDA0GZDKJ            15"
      ]
     },
     "execution_count": 153,
     "metadata": {},
     "output_type": "execute_result"
    }
   ],
   "source": [
    "recommend_top_n(rating=rating,\n",
    "                n_items=30)"
   ]
  },
  {
   "attachments": {},
   "cell_type": "markdown",
   "metadata": {},
   "source": [
    "## Creating Utility Matrix"
   ]
  },
  {
   "attachments": {},
   "cell_type": "markdown",
   "metadata": {},
   "source": [
    "### Filter user with minimal rating"
   ]
  },
  {
   "cell_type": "code",
   "execution_count": 154,
   "metadata": {},
   "outputs": [],
   "source": [
    "filter_minimum_interaction = number_of_interaction['avg_interaction']<CONFIG_DATA['minimum_interaction']\n",
    "under_minimum_reviewerID = number_of_interaction.loc[filter_minimum_interaction,'reviewerID'].tolist()"
   ]
  },
  {
   "cell_type": "code",
   "execution_count": 155,
   "metadata": {},
   "outputs": [
    {
     "data": {
      "text/html": [
       "<div>\n",
       "<style scoped>\n",
       "    .dataframe tbody tr th:only-of-type {\n",
       "        vertical-align: middle;\n",
       "    }\n",
       "\n",
       "    .dataframe tbody tr th {\n",
       "        vertical-align: top;\n",
       "    }\n",
       "\n",
       "    .dataframe thead th {\n",
       "        text-align: right;\n",
       "    }\n",
       "</style>\n",
       "<table border=\"1\" class=\"dataframe\">\n",
       "  <thead>\n",
       "    <tr style=\"text-align: right;\">\n",
       "      <th></th>\n",
       "      <th>reviewerID</th>\n",
       "      <th>itemID</th>\n",
       "      <th>rating</th>\n",
       "    </tr>\n",
       "  </thead>\n",
       "  <tbody>\n",
       "    <tr>\n",
       "      <th>0</th>\n",
       "      <td>B00005N7P0</td>\n",
       "      <td>AH2IFH762VY5U</td>\n",
       "      <td>5.0</td>\n",
       "    </tr>\n",
       "    <tr>\n",
       "      <th>1</th>\n",
       "      <td>B00005N7P0</td>\n",
       "      <td>AOSFI0JEYU4XM</td>\n",
       "      <td>5.0</td>\n",
       "    </tr>\n",
       "    <tr>\n",
       "      <th>2</th>\n",
       "      <td>B00005N7OJ</td>\n",
       "      <td>A3JPFWKS83R49V</td>\n",
       "      <td>3.0</td>\n",
       "    </tr>\n",
       "    <tr>\n",
       "      <th>3</th>\n",
       "      <td>B00005N7OJ</td>\n",
       "      <td>A19FKU6JZQ2ECJ</td>\n",
       "      <td>5.0</td>\n",
       "    </tr>\n",
       "    <tr>\n",
       "      <th>4</th>\n",
       "      <td>B00005N7P0</td>\n",
       "      <td>A25MDGOMZ2GALN</td>\n",
       "      <td>5.0</td>\n",
       "    </tr>\n",
       "    <tr>\n",
       "      <th>...</th>\n",
       "      <td>...</td>\n",
       "      <td>...</td>\n",
       "      <td>...</td>\n",
       "    </tr>\n",
       "    <tr>\n",
       "      <th>89682</th>\n",
       "      <td>B01HI8V1C2</td>\n",
       "      <td>A2XSSQH4VO5B1L</td>\n",
       "      <td>5.0</td>\n",
       "    </tr>\n",
       "    <tr>\n",
       "      <th>89683</th>\n",
       "      <td>B01HI8V1C2</td>\n",
       "      <td>A2K4AUMORPI9GZ</td>\n",
       "      <td>5.0</td>\n",
       "    </tr>\n",
       "    <tr>\n",
       "      <th>89684</th>\n",
       "      <td>B01HI8V1C2</td>\n",
       "      <td>AB5HCI50SF1TK</td>\n",
       "      <td>5.0</td>\n",
       "    </tr>\n",
       "    <tr>\n",
       "      <th>89685</th>\n",
       "      <td>B01HI8V1C2</td>\n",
       "      <td>A2X11NZMPI7M0T</td>\n",
       "      <td>1.0</td>\n",
       "    </tr>\n",
       "    <tr>\n",
       "      <th>89686</th>\n",
       "      <td>B01HI8V1C2</td>\n",
       "      <td>A3EGFFBRQVO7L7</td>\n",
       "      <td>5.0</td>\n",
       "    </tr>\n",
       "  </tbody>\n",
       "</table>\n",
       "<p>88784 rows × 3 columns</p>\n",
       "</div>"
      ],
      "text/plain": [
       "       reviewerID          itemID  rating\n",
       "0      B00005N7P0   AH2IFH762VY5U     5.0\n",
       "1      B00005N7P0   AOSFI0JEYU4XM     5.0\n",
       "2      B00005N7OJ  A3JPFWKS83R49V     3.0\n",
       "3      B00005N7OJ  A19FKU6JZQ2ECJ     5.0\n",
       "4      B00005N7P0  A25MDGOMZ2GALN     5.0\n",
       "...           ...             ...     ...\n",
       "89682  B01HI8V1C2  A2XSSQH4VO5B1L     5.0\n",
       "89683  B01HI8V1C2  A2K4AUMORPI9GZ     5.0\n",
       "89684  B01HI8V1C2   AB5HCI50SF1TK     5.0\n",
       "89685  B01HI8V1C2  A2X11NZMPI7M0T     1.0\n",
       "89686  B01HI8V1C2  A3EGFFBRQVO7L7     5.0\n",
       "\n",
       "[88784 rows x 3 columns]"
      ]
     },
     "execution_count": 155,
     "metadata": {},
     "output_type": "execute_result"
    }
   ],
   "source": [
    "#drop rating_based on index \n",
    "rating_adjusted = rating.loc[\n",
    "    ~rating['reviewerID'].isin(under_minimum_reviewerID)\n",
    "]\n",
    "rating_adjusted"
   ]
  },
  {
   "cell_type": "code",
   "execution_count": 156,
   "metadata": {},
   "outputs": [],
   "source": [
    "def remove_min_interaction(rating_data,number_of_interaction,threshold=3) : \n",
    "    rating_data = rating_data.copy()\n",
    "    filter_minimum_interaction = number_of_interaction['avg_interaction']<threshold\n",
    "    under_threshold_reviewerID = number_of_interaction.loc[filter_minimum_interaction,'reviewerID'].tolist()\n",
    "    rating_adjusted = rating_data.loc[\n",
    "        ~rating['reviewerID'].isin(under_threshold_reviewerID) ]\n",
    "\n",
    "    return rating_adjusted\n",
    "    "
   ]
  },
  {
   "attachments": {},
   "cell_type": "markdown",
   "metadata": {},
   "source": [
    "filter `reviewerID` with minimal 3 interactions"
   ]
  },
  {
   "cell_type": "code",
   "execution_count": 157,
   "metadata": {},
   "outputs": [
    {
     "data": {
      "text/html": [
       "<div>\n",
       "<style scoped>\n",
       "    .dataframe tbody tr th:only-of-type {\n",
       "        vertical-align: middle;\n",
       "    }\n",
       "\n",
       "    .dataframe tbody tr th {\n",
       "        vertical-align: top;\n",
       "    }\n",
       "\n",
       "    .dataframe thead th {\n",
       "        text-align: right;\n",
       "    }\n",
       "</style>\n",
       "<table border=\"1\" class=\"dataframe\">\n",
       "  <thead>\n",
       "    <tr style=\"text-align: right;\">\n",
       "      <th></th>\n",
       "      <th>reviewerID</th>\n",
       "      <th>itemID</th>\n",
       "      <th>rating</th>\n",
       "    </tr>\n",
       "  </thead>\n",
       "  <tbody>\n",
       "    <tr>\n",
       "      <th>0</th>\n",
       "      <td>B00005N7P0</td>\n",
       "      <td>AH2IFH762VY5U</td>\n",
       "      <td>5.0</td>\n",
       "    </tr>\n",
       "    <tr>\n",
       "      <th>1</th>\n",
       "      <td>B00005N7P0</td>\n",
       "      <td>AOSFI0JEYU4XM</td>\n",
       "      <td>5.0</td>\n",
       "    </tr>\n",
       "    <tr>\n",
       "      <th>2</th>\n",
       "      <td>B00005N7OJ</td>\n",
       "      <td>A3JPFWKS83R49V</td>\n",
       "      <td>3.0</td>\n",
       "    </tr>\n",
       "    <tr>\n",
       "      <th>3</th>\n",
       "      <td>B00005N7OJ</td>\n",
       "      <td>A19FKU6JZQ2ECJ</td>\n",
       "      <td>5.0</td>\n",
       "    </tr>\n",
       "    <tr>\n",
       "      <th>4</th>\n",
       "      <td>B00005N7P0</td>\n",
       "      <td>A25MDGOMZ2GALN</td>\n",
       "      <td>5.0</td>\n",
       "    </tr>\n",
       "    <tr>\n",
       "      <th>...</th>\n",
       "      <td>...</td>\n",
       "      <td>...</td>\n",
       "      <td>...</td>\n",
       "    </tr>\n",
       "    <tr>\n",
       "      <th>89682</th>\n",
       "      <td>B01HI8V1C2</td>\n",
       "      <td>A2XSSQH4VO5B1L</td>\n",
       "      <td>5.0</td>\n",
       "    </tr>\n",
       "    <tr>\n",
       "      <th>89683</th>\n",
       "      <td>B01HI8V1C2</td>\n",
       "      <td>A2K4AUMORPI9GZ</td>\n",
       "      <td>5.0</td>\n",
       "    </tr>\n",
       "    <tr>\n",
       "      <th>89684</th>\n",
       "      <td>B01HI8V1C2</td>\n",
       "      <td>AB5HCI50SF1TK</td>\n",
       "      <td>5.0</td>\n",
       "    </tr>\n",
       "    <tr>\n",
       "      <th>89685</th>\n",
       "      <td>B01HI8V1C2</td>\n",
       "      <td>A2X11NZMPI7M0T</td>\n",
       "      <td>1.0</td>\n",
       "    </tr>\n",
       "    <tr>\n",
       "      <th>89686</th>\n",
       "      <td>B01HI8V1C2</td>\n",
       "      <td>A3EGFFBRQVO7L7</td>\n",
       "      <td>5.0</td>\n",
       "    </tr>\n",
       "  </tbody>\n",
       "</table>\n",
       "<p>88784 rows × 3 columns</p>\n",
       "</div>"
      ],
      "text/plain": [
       "       reviewerID          itemID  rating\n",
       "0      B00005N7P0   AH2IFH762VY5U     5.0\n",
       "1      B00005N7P0   AOSFI0JEYU4XM     5.0\n",
       "2      B00005N7OJ  A3JPFWKS83R49V     3.0\n",
       "3      B00005N7OJ  A19FKU6JZQ2ECJ     5.0\n",
       "4      B00005N7P0  A25MDGOMZ2GALN     5.0\n",
       "...           ...             ...     ...\n",
       "89682  B01HI8V1C2  A2XSSQH4VO5B1L     5.0\n",
       "89683  B01HI8V1C2  A2K4AUMORPI9GZ     5.0\n",
       "89684  B01HI8V1C2   AB5HCI50SF1TK     5.0\n",
       "89685  B01HI8V1C2  A2X11NZMPI7M0T     1.0\n",
       "89686  B01HI8V1C2  A3EGFFBRQVO7L7     5.0\n",
       "\n",
       "[88784 rows x 3 columns]"
      ]
     },
     "execution_count": 157,
     "metadata": {},
     "output_type": "execute_result"
    }
   ],
   "source": [
    "rating_data_filtered = remove_min_interaction(\n",
    "    rating_data=rating,\n",
    "    number_of_interaction=number_of_interaction,\n",
    "    threshold=3\n",
    ")\n",
    "rating_data_filtered"
   ]
  },
  {
   "attachments": {},
   "cell_type": "markdown",
   "metadata": {},
   "source": [
    "### Mapping `reviewerID` and `itemID` \n"
   ]
  },
  {
   "cell_type": "code",
   "execution_count": 158,
   "metadata": {},
   "outputs": [],
   "source": [
    "#map user id --> ordered id \n",
    "reviewer_id_to_ordered_id = {}\n",
    "ordered_id_to_reviewer_id = {}\n",
    "for idx,reviewer_id in enumerate(rating['reviewerID'].unique()) : \n",
    "    reviewer_id_to_ordered_id[reviewer_id] = idx+1\n",
    "    ordered_id_to_reviewer_id[idx+1] = reviewer_id\n",
    "\n",
    "\n"
   ]
  },
  {
   "cell_type": "code",
   "execution_count": 159,
   "metadata": {},
   "outputs": [],
   "source": [
    "#map user id --> ordered id \n",
    "item_id_to_ordered_id = {}\n",
    "ordered_id_to_item_id = {}\n",
    "for idx,item_id in enumerate(rating['itemID'].unique()) : \n",
    "    item_id_to_ordered_id[item_id] = idx+1\n",
    "    ordered_id_to_item_id[idx+1] = item_id\n"
   ]
  },
  {
   "cell_type": "code",
   "execution_count": 160,
   "metadata": {},
   "outputs": [
    {
     "data": {
      "text/plain": [
       "['dataset/mapper/ordered_id_to_item_id.pkl']"
      ]
     },
     "execution_count": 160,
     "metadata": {},
     "output_type": "execute_result"
    }
   ],
   "source": [
    "joblib.dump(reviewer_id_to_ordered_id,CONFIG_DATA['reviewer_id_to_ordered_id_path'])\n",
    "joblib.dump(ordered_id_to_reviewer_id,CONFIG_DATA['ordered_id_to_reviewer_id_path'])\n",
    "\n",
    "joblib.dump(item_id_to_ordered_id,CONFIG_DATA['item_id_to_ordered_id_path'])\n",
    "joblib.dump(ordered_id_to_item_id,CONFIG_DATA['ordered_id_to_item_id_path'])"
   ]
  },
  {
   "cell_type": "code",
   "execution_count": 161,
   "metadata": {},
   "outputs": [],
   "source": [
    "mapped_reviewer_item_rating = rating.copy()\n",
    "\n",
    "mapped_reviewer_item_rating.reviewerID = mapped_reviewer_item_rating.reviewerID.map(reviewer_id_to_ordered_id)\n",
    "mapped_reviewer_item_rating.itemID = mapped_reviewer_item_rating.itemID.map(item_id_to_ordered_id)\n"
   ]
  },
  {
   "cell_type": "code",
   "execution_count": 162,
   "metadata": {},
   "outputs": [
    {
     "data": {
      "text/html": [
       "<div>\n",
       "<style scoped>\n",
       "    .dataframe tbody tr th:only-of-type {\n",
       "        vertical-align: middle;\n",
       "    }\n",
       "\n",
       "    .dataframe tbody tr th {\n",
       "        vertical-align: top;\n",
       "    }\n",
       "\n",
       "    .dataframe thead th {\n",
       "        text-align: right;\n",
       "    }\n",
       "</style>\n",
       "<table border=\"1\" class=\"dataframe\">\n",
       "  <thead>\n",
       "    <tr style=\"text-align: right;\">\n",
       "      <th></th>\n",
       "      <th>reviewerID</th>\n",
       "      <th>itemID</th>\n",
       "      <th>rating</th>\n",
       "    </tr>\n",
       "  </thead>\n",
       "  <tbody>\n",
       "    <tr>\n",
       "      <th>0</th>\n",
       "      <td>1</td>\n",
       "      <td>1</td>\n",
       "      <td>5.0</td>\n",
       "    </tr>\n",
       "    <tr>\n",
       "      <th>1</th>\n",
       "      <td>1</td>\n",
       "      <td>2</td>\n",
       "      <td>5.0</td>\n",
       "    </tr>\n",
       "    <tr>\n",
       "      <th>2</th>\n",
       "      <td>2</td>\n",
       "      <td>3</td>\n",
       "      <td>3.0</td>\n",
       "    </tr>\n",
       "    <tr>\n",
       "      <th>3</th>\n",
       "      <td>2</td>\n",
       "      <td>4</td>\n",
       "      <td>5.0</td>\n",
       "    </tr>\n",
       "    <tr>\n",
       "      <th>4</th>\n",
       "      <td>1</td>\n",
       "      <td>5</td>\n",
       "      <td>5.0</td>\n",
       "    </tr>\n",
       "    <tr>\n",
       "      <th>...</th>\n",
       "      <td>...</td>\n",
       "      <td>...</td>\n",
       "      <td>...</td>\n",
       "    </tr>\n",
       "    <tr>\n",
       "      <th>89684</th>\n",
       "      <td>2427</td>\n",
       "      <td>72095</td>\n",
       "      <td>5.0</td>\n",
       "    </tr>\n",
       "    <tr>\n",
       "      <th>89685</th>\n",
       "      <td>2427</td>\n",
       "      <td>72096</td>\n",
       "      <td>1.0</td>\n",
       "    </tr>\n",
       "    <tr>\n",
       "      <th>89686</th>\n",
       "      <td>2427</td>\n",
       "      <td>58405</td>\n",
       "      <td>5.0</td>\n",
       "    </tr>\n",
       "    <tr>\n",
       "      <th>89687</th>\n",
       "      <td>2428</td>\n",
       "      <td>72097</td>\n",
       "      <td>5.0</td>\n",
       "    </tr>\n",
       "    <tr>\n",
       "      <th>89688</th>\n",
       "      <td>2428</td>\n",
       "      <td>72098</td>\n",
       "      <td>5.0</td>\n",
       "    </tr>\n",
       "  </tbody>\n",
       "</table>\n",
       "<p>89689 rows × 3 columns</p>\n",
       "</div>"
      ],
      "text/plain": [
       "       reviewerID  itemID  rating\n",
       "0               1       1     5.0\n",
       "1               1       2     5.0\n",
       "2               2       3     3.0\n",
       "3               2       4     5.0\n",
       "4               1       5     5.0\n",
       "...           ...     ...     ...\n",
       "89684        2427   72095     5.0\n",
       "89685        2427   72096     1.0\n",
       "89686        2427   58405     5.0\n",
       "89687        2428   72097     5.0\n",
       "89688        2428   72098     5.0\n",
       "\n",
       "[89689 rows x 3 columns]"
      ]
     },
     "execution_count": 162,
     "metadata": {},
     "output_type": "execute_result"
    }
   ],
   "source": [
    "mapped_reviewer_item_rating"
   ]
  },
  {
   "attachments": {},
   "cell_type": "markdown",
   "metadata": {},
   "source": [
    "### Utility Matrix"
   ]
  },
  {
   "cell_type": "code",
   "execution_count": 163,
   "metadata": {},
   "outputs": [],
   "source": [
    "from scipy.sparse import coo_matrix,csr_matrix\n",
    "\n",
    "\n",
    "from scipy.sparse import coo_matrix\n",
    "\"\"\"\n",
    "From Documentation \n",
    "Constructing a matrix using ijv format\n",
    "\n",
    "row  = np.array([0, 3, 1, 0])\n",
    "col  = np.array([0, 3, 1, 2])\n",
    "data = np.array([4, 5, 7, 9])\n",
    "coo_array((data, (row, col)), shape=(4, 4)).toarray()\n",
    "array([[4, 0, 9, 0],\n",
    "       [0, 7, 0, 0],\n",
    "       [0, 0, 0, 0],\n",
    "       [0, 0, 0, 5]])\n",
    "\"\"\"\n",
    "row = mapped_reviewer_item_rating.reviewerID.values\n",
    "col = mapped_reviewer_item_rating.itemID.values\n",
    "data = mapped_reviewer_item_rating.rating.values\n",
    "\n",
    "\n",
    "utility_matrix = coo_matrix((data,(row,col)))\n"
   ]
  },
  {
   "cell_type": "code",
   "execution_count": 164,
   "metadata": {},
   "outputs": [],
   "source": [
    "def create_utility_matrix(utility_df,row_name,col_name,interaction_name) : \n",
    "\n",
    "\n",
    "    row = utility_df[row_name].values\n",
    "    col = utility_df[col_name].values\n",
    "    data = utility_df[interaction_name].values\n",
    "\n",
    "\n",
    "    utility_matrix = coo_matrix((data,(row,col)))\n",
    "    utility_matrix = utility_matrix\n",
    "    return utility_matrix"
   ]
  },
  {
   "cell_type": "code",
   "execution_count": 165,
   "metadata": {},
   "outputs": [],
   "source": [
    "utility_matrix = create_utility_matrix(\n",
    "    utility_df=mapped_reviewer_item_rating, \n",
    "    row_name=CONFIG_DATA['user_column'],\n",
    "    col_name=CONFIG_DATA['item_column'],\n",
    "    interaction_name=CONFIG_DATA['interaction_column'],\n",
    "    \n",
    ")"
   ]
  },
  {
   "cell_type": "code",
   "execution_count": 166,
   "metadata": {},
   "outputs": [],
   "source": [
    "from implicit.evaluation import train_test_split\n",
    "train_data,test_data = train_test_split(ratings=utility_matrix,\n",
    "                 train_percentage=CONFIG_DATA['training_pct'],\n",
    "                 random_state=43)"
   ]
  },
  {
   "cell_type": "code",
   "execution_count": 167,
   "metadata": {},
   "outputs": [],
   "source": [
    "val_data,test_data = train_test_split(ratings=test_data,\n",
    "                 train_percentage=CONFIG_DATA['val_pct'],\n",
    "                 random_state=CONFIG_DATA['seed'])"
   ]
  },
  {
   "cell_type": "code",
   "execution_count": 168,
   "metadata": {},
   "outputs": [],
   "source": [
    "def data_splitting(utility_matrix) :\n",
    "    '''Function for splitting data into training,val,test utility matrix ''' \n",
    "    train_data,test_data = train_test_split(ratings=utility_matrix,\n",
    "                 train_percentage=CONFIG_DATA['training_pct'],\n",
    "                 random_state=CONFIG_DATA['seed'])\n",
    "    val_data,test_data = train_test_split(ratings=test_data,\n",
    "                 train_percentage=CONFIG_DATA['val_pct'],\n",
    "                 random_state=CONFIG_DATA['seed'])\n",
    "    \n",
    "    print('Train data length',train_data.nnz)\n",
    "    print('Val data length',val_data.nnz)\n",
    "    print('Test data length',test_data.nnz)\n",
    "    \n",
    "    #dump utility matrix \n",
    "    joblib.dump(train_data,CONFIG_DATA['train_utility_matrix_path'])\n",
    "    joblib.dump(val_data,CONFIG_DATA['val_utility_matrix_path'])\n",
    "    joblib.dump(test_data,CONFIG_DATA['test_utility_matrix_path'])\n",
    "    "
   ]
  },
  {
   "cell_type": "code",
   "execution_count": 169,
   "metadata": {},
   "outputs": [
    {
     "name": "stdout",
     "output_type": "stream",
     "text": [
      "Train data length 53176\n",
      "Val data length 17788\n",
      "Test data length 18003\n"
     ]
    }
   ],
   "source": [
    "data_splitting(utility_matrix=utility_matrix)"
   ]
  },
  {
   "cell_type": "code",
   "execution_count": null,
   "metadata": {},
   "outputs": [],
   "source": []
  }
 ],
 "metadata": {
  "kernelspec": {
   "display_name": "recsys_project",
   "language": "python",
   "name": "python3"
  },
  "language_info": {
   "codemirror_mode": {
    "name": "ipython",
    "version": 3
   },
   "file_extension": ".py",
   "mimetype": "text/x-python",
   "name": "python",
   "nbconvert_exporter": "python",
   "pygments_lexer": "ipython3",
   "version": "3.10.9"
  },
  "orig_nbformat": 4
 },
 "nbformat": 4,
 "nbformat_minor": 2
}
